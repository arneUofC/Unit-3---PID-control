{
 "cells": [
  {
   "attachments": {},
   "cell_type": "markdown",
   "metadata": {},
   "source": [
    "# Unit 3 - Proportional, Integral and Derivative (PID) Controllers\n",
    "\n",
    "# Objectves\n",
    "- In previous Unit saw that proportional controllers are sometimes able to meet design requirements (they can increase the performance of a system)\n",
    "- However proportional controllers typically have large steady state errors (which limits their usefulness)\n",
    "- Integral control can eliminate steady state errors while still keeping the desired performance\n",
    "- Derivative control can increase the performance of a system (reduce tracking errors)\n",
    "- The main strength of PID control is that it allows for intuitive tuning (this is probably the reason for the popularity of PID control)\n",
    "- 50\\% of industrial controllers are PID controllers (Ogata 2010)"
   ]
  },
  {
   "attachments": {},
   "cell_type": "markdown",
   "metadata": {},
   "source": [
    "# What is a PID controller?\n",
    "$$\n",
    "\\begin{align*}\n",
    "u_K(t) &= K(t)*\\varepsilon(t) \\\\\n",
    " &= \\underbrace{K_p \\varepsilon(t)}_{\\substack{\\text{Proportional} \\\\ \\text{Control} \\\\ \\text{Action}}} + \\underbrace{K_i \\int_0^{t}\\varepsilon(\\tau) d\\tau}_{\\substack{\\text{Integral} \\\\ \\text{Control} \\\\ \\text{action}}}+ \\underbrace{ K_d \\frac{d}{dt} \\varepsilon(t)}_{\\substack{\\text{Derivative} \\\\ \\text{Control} \\\\ \\text{action}}}\n",
    "\\end{align*}\n",
    "$$\n",
    "\n",
    "There are 3 \"tuning knobs\": $K_p$, $K_i$ and $K_d$. \n",
    "- Somehow we must pick a suitable value for each of these parameters. \n",
    "- By understanding how each parameter affects the closed-loop system we can tune the controller intuitively.\n",
    "- Advantage: no need for a model!"
   ]
  },
  {
   "attachments": {},
   "cell_type": "markdown",
   "metadata": {},
   "source": [
    "In Laplace domain:\n",
    "$$\n",
    "\\begin{align*}\n",
    "U_K(s) &= K(s)\\mathcal{E}(s) \\\\\n",
    " &= K_p \\mathcal{E}(s)  + \\frac{K_i}{s} \\mathcal{E}(s)  + K_d \\mathcal{E}(s)s\n",
    "\\end{align*}\n",
    "$$\n",
    "\n",
    "![PID feedback loop](PIDcontrolLoop.jpg \"PID feedback loop\")"
   ]
  },
  {
   "attachments": {},
   "cell_type": "markdown",
   "metadata": {},
   "source": [
    "# The Intuition Behind PID Controllers\n",
    "\n"
   ]
  },
  {
   "attachments": {},
   "cell_type": "markdown",
   "metadata": {},
   "source": [
    "# Start with Proportional Control\n",
    "\n",
    "- Choose a value for $K_p$ to meet design requirements. If you have a model for the system, can use Root Locus Plots. \n",
    "- If design requirements cannot be met using just a proportional controller, add a derivative controller\n",
    "- If design requirements are met using either P or PD controllers, then check the steady state error. If there is an error, add an integral controller. "
   ]
  },
  {
   "cell_type": "code",
   "execution_count": null,
   "metadata": {},
   "outputs": [],
   "source": [
    "# Integral Control\n",
    "\n",
    "- "
   ]
  },
  {
   "attachments": {},
   "cell_type": "markdown",
   "metadata": {},
   "source": [
    "# Steady State Errors\n",
    "\n",
    "What is the steady state error for a proportional controller?\n",
    "\n",
    "$$\n",
    "\\begin{align*}\n",
    "\\mathcal{E}(s) &= S(s)R(s) \\\\\n",
    "&= \\frac{1}{1 + P(s)K}R(s) \\\\\n",
    "&= \\frac{1}{1 + \\frac{B(s)}{A(s)}K} \\\\\n",
    "&= \\frac{A(s)}{A(s)+ B(s)K}\n",
    "\\end{align*}\n",
    "$$"
   ]
  },
  {
   "attachments": {},
   "cell_type": "markdown",
   "metadata": {},
   "source": [
    "# Ramp error"
   ]
  },
  {
   "attachments": {},
   "cell_type": "markdown",
   "metadata": {},
   "source": [
    "# Derivative Control\n",
    "\n"
   ]
  },
  {
   "attachments": {},
   "cell_type": "markdown",
   "metadata": {},
   "source": [
    "# The problem with derivative control - amplification of noise"
   ]
  }
 ],
 "metadata": {
  "kernelspec": {
   "display_name": "enel441",
   "language": "python",
   "name": "python3"
  },
  "language_info": {
   "name": "python",
   "version": "3.10.8"
  },
  "orig_nbformat": 4,
  "vscode": {
   "interpreter": {
    "hash": "aae2aa8d6042359e33b866bd60410f1e12f989f850a82b777f7146ee7b999886"
   }
  }
 },
 "nbformat": 4,
 "nbformat_minor": 2
}

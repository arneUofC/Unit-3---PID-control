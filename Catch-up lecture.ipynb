{
 "cells": [
  {
   "cell_type": "markdown",
   "metadata": {
    "slideshow": {
     "slide_type": "slide"
    }
   },
   "source": [
    "# Catch-Up Lecture\n",
    "\n",
    "Two items we need to catch up on:\n",
    "- Active suspension example (in preparation for Lab 2)\n",
    "- A reasoning as to why $K$ should be positive for Proportional controllers"
   ]
  },
  {
   "cell_type": "markdown",
   "metadata": {
    "slideshow": {
     "slide_type": "slide"
    }
   },
   "source": [
    "# Example - Active Suspension for a Car\n",
    "\n",
    "![Car suspension](car_suspension.png \"Car suspension\")\n",
    "source: https://auto.howstuffworks.com/car-suspension.htm\n",
    "\n",
    "\n",
    "![Car suspension diagram](car-suspension-diagram.png \"Car suspension diagram\")\n"
   ]
  },
  {
   "cell_type": "markdown",
   "metadata": {
    "slideshow": {
     "slide_type": "subslide"
    }
   },
   "source": [
    "![Car suspension free body diagram](car-suspension-free-body-diagram.png \"Car suspension free body diagram\")\n",
    "\n",
    "where,\n",
    "- $F_a$ is the force applied by the active suspension\n",
    "- $F_g$ is the force due to gravity\n",
    "- $F_s$ is the force due to the spring\n",
    "- $F_d$ is the force due to the damper\n",
    "- $x_c$ is vertical position of car\n",
    "- $x_g$ is vertical position of the ground"
   ]
  },
  {
   "cell_type": "markdown",
   "metadata": {
    "slideshow": {
     "slide_type": "subslide"
    }
   },
   "source": [
    "# In Class Activity! \n",
    "\n",
    "Determine the transfer function from $F_a$ to $x_c$"
   ]
  },
  {
   "cell_type": "markdown",
   "metadata": {
    "slideshow": {
     "slide_type": "subslide"
    }
   },
   "source": [
    "Sum forces:\n",
    "$$\n",
    "\\begin{align*}\n",
    "\\sum_k F_k &= ma \\\\\n",
    "-F_s - F_d - F_g + F_a &= ma_c \\\\\n",
    "-k(x_c-x_g) - b(\\frac{dx_c}{dt}-\\frac{dx_g}{dt}) - mg + F_a &= m\\frac{d^2x_c}{dt^2}\n",
    "\\end{align*}\n",
    "$$\n",
    "Take Laplace transform of both sides:\n",
    "$$\n",
    "\\begin{align*}\n",
    "-k(X_c(s) - X_g(s)) - b(sX_c(s) - sX_g(s)) - mg + F_a(s) &= ms^2X_c(s) \\\\\n",
    "X_g(s) (k + bs) - mg + F_a(s) &= X_c(s) ( k + bs + ms^2) \\\\\n",
    "X_c(s) &= \\frac{k+bs}{k + bs + ms^2}X_g(s) + \\frac{1}{k + bs + ms^2}F_a(s) - \\frac{mg}{k + bs + ms^2}\n",
    "\\end{align*}\n",
    "$$"
   ]
  },
  {
   "cell_type": "markdown",
   "metadata": {
    "slideshow": {
     "slide_type": "subslide"
    }
   },
   "source": [
    "# Pause - Linearity\n",
    "For a linear system, if we double in the input, we will get double the output. Is our current expression for $X_c$ linear with respect to the inputs $F_a$ and $X_g$?\n",
    "\n",
    "Let's double both inputs and determine the output. Let $\\tilde{X}_c$ denote the output with doubled inputs:\n",
    "$$\n",
    "\\begin{align*}\n",
    "\\tilde{X}_c(s) &= \\frac{k+bs}{k + bs + ms^2}2 X_g(s) + \\frac{1}{k + bs + ms^2}2 F_a(s) - \\frac{mg}{k + bs + ms^2} \\\\\n",
    "&= 2X_c(s) + \\frac{mg}{k + bs + ms^2}\n",
    "\\end{align*}\n",
    "$$\n",
    "\n",
    "We did not get double the output (i.e. we don't have $\\tilde{X}_c = 2X_c$)! The term due to gravity is getting in the way! "
   ]
  },
  {
   "cell_type": "markdown",
   "metadata": {
    "slideshow": {
     "slide_type": "subslide"
    }
   },
   "source": [
    "# Attempt #2. Write the equations around the equilibrium point (this will absorb the term due to gravity).\n",
    "\n",
    "In otherwords, re-write the equations so that position is relative to equilibrium instead of absolute position.\n",
    "\n",
    "At equilibrium we have:\n",
    "$$\n",
    "\\begin{align*}\n",
    "x_c &= x_{eq}, \\\\\n",
    "\\frac{dx_c}{dt} &= 0, \\\\\n",
    "\\frac{d^2x_c}{dt^2} &= 0, \\\\\n",
    "x_g &= 0, \\\\\n",
    "\\frac{dx_g}{dt} &= 0, \\\\\n",
    "F_a &= 0\n",
    "\\end{align*}\n",
    "$$\n",
    "\n",
    "# In Class Activity!\n",
    "\n",
    "Substitute these values into the original expression, and solve for $x_{eq}$."
   ]
  },
  {
   "cell_type": "markdown",
   "metadata": {
    "slideshow": {
     "slide_type": "subslide"
    }
   },
   "source": [
    "$$\n",
    "\\begin{align*}\n",
    "-kx_{eq} - mg &= 0 \\\\\n",
    "x_{eq} &= -\\frac{mg}{k}\n",
    "\\end{align*}\n",
    "$$"
   ]
  },
  {
   "cell_type": "markdown",
   "metadata": {
    "slideshow": {
     "slide_type": "subslide"
    }
   },
   "source": [
    "Now we can express $x_c$ is terms of a relative change from its equilibrium position:\n",
    "$$\n",
    "\\begin{align*}\n",
    "x_c(t) = x_{eq} + x_{\\Delta}(t)\n",
    "\\end{align*}\n",
    "$$\n",
    "\n",
    "Note that the derivatives of $x_c$ can be expressed as:\n",
    "$$\n",
    "\\begin{align*}\n",
    "\\frac{d x_c(t)}{dt} &= \\frac{d x_{\\Delta}(t)}{dt} \\\\\n",
    "\\frac{d^2 x_c(t)}{dt^2} &= \\frac{d^2 x_{\\Delta}(t)}{dt^2} \n",
    "\\end{align*}\n",
    "$$\n",
    "This is because $x_{eq}$ is a constant (not a function of time)\n",
    "\n",
    "# In Class Activity!\n",
    "\n",
    "Substitute $x_c = x_{eq} + x_{\\Delta}$ into the original differential equation."
   ]
  },
  {
   "cell_type": "markdown",
   "metadata": {
    "slideshow": {
     "slide_type": "subslide"
    }
   },
   "source": [
    "$$\n",
    "\\begin{align*}\n",
    "-k(x_{eq} + x_{\\Delta}-x_g) - b(\\frac{dx_{\\Delta}}{dt}-\\frac{dx_g}{dt}) - mg + F_a = m\\frac{d^2x_{\\Delta}}{dt^2}\n",
    "\\end{align*}\n",
    "$$\n",
    "\n",
    "Recall that $x_{eq} = -\\frac{mg}{k}$. Substitute this into the equation:\n",
    "$$\n",
    "\\begin{align*}\n",
    "-k(x_{\\Delta}-x_g) - b(\\frac{dx_{\\Delta}}{dt}-\\frac{dx_g}{dt}) + F_a = m\\frac{d^2x_{\\Delta}}{dt^2}\n",
    "\\end{align*}\n",
    "$$\n",
    "\n",
    "Take Laplace transform of both sides, and gather terms:\n",
    "$$\n",
    "\\begin{align*}\n",
    "(b s + k)X_g(s) + F_a(s) &= (ms^2 + bs + k) X_{\\Delta}(s) \\\\\n",
    "X_{\\Delta}(s) &= \\frac{(b s + k)}{(ms^2 + bs + k)}X_g(s) + \\frac{1}{(ms^2 + bs + k)}F_a(s)\n",
    "\\end{align*}\n",
    "$$\n",
    "\n",
    "This is a transfer function that represents an active suspension system. In Lab 2 you will derive a slightly more complicated model and design 2 different PID controllers for it. "
   ]
  },
  {
   "cell_type": "markdown",
   "metadata": {
    "slideshow": {
     "slide_type": "slide"
    }
   },
   "source": [
    "# Question: Why is $K$ chosen to be positive?\n",
    "\n",
    "Good question! The answer that I have come up with is not straight-forward, but I think that it is worth looking into this situation because it directly connects to stability and steady state error.\n",
    "\n",
    "# We can show that for a broad class of systems, $K$ should be positive\n",
    "\n",
    "Before we start, need to prove a result."
   ]
  },
  {
   "cell_type": "markdown",
   "metadata": {
    "slideshow": {
     "slide_type": "subslide"
    }
   },
   "source": [
    "# Proposition \n",
    "Consider a transfer function \n",
    "$$G(s) = \\frac{B(s)}{A(s)} = \\frac{b_0 + b_1s + b_2s^2 + \\cdots + b_{n_b}s^{n_b}}{a_0 + a_1s + a_2s^2 + \\cdots + a_{n_a-1}s^{n_a-1} + s^{n_a}}$$\n",
    "If $G(s)$ is stable, then $a_0 >0$.\n",
    "\n",
    "# Proof:\n",
    "Express $A$ in terms of its roots (these are the poles of $G(s)$):\n",
    "$$\n",
    "\\begin{align*}\n",
    "A(s) = (s+p_1)(s+p_2) \\cdots (s+p_{n_a})\n",
    "\\end{align*}\n",
    "$$\n",
    "\n",
    "From this expression, it is possible to obtain an expression for $a_0$ in terms of the poles:\n",
    "$$\n",
    "\\begin{align*}\n",
    "a_0 = p_1p_2 \\cdots p_{n_a}\n",
    "\\end{align*}\n",
    "$$\n",
    "Because $G(s)$ is assumed to be positive, all $p_{n_a}$ have positive real part. In addition, all complex poles appear in conjugate pairs. This implies that $a_0$ is positive. \n",
    "End of Proof"
   ]
  },
  {
   "cell_type": "code",
   "execution_count": 1,
   "metadata": {
    "slideshow": {
     "slide_type": "subslide"
    }
   },
   "outputs": [
    {
     "name": "stdout",
     "output_type": "stream",
     "text": [
      "Poles: [-1.-1.j -1.+1.j -2.+0.j -3.+0.j]\n",
      "Polynomial: [ 1.  7. 18. 22. 12.]\n",
      "\n",
      "Poles: [-1.-1.j -1.+1.j -2.+3.j -2.-3.j -3.+0.j]\n",
      "Polynomial: [  1.   9.  41. 103. 128.  78.]\n"
     ]
    }
   ],
   "source": [
    "import enel441_utilities as eu\n",
    "import numpy as np\n",
    "\n",
    "poles1 = np.array([-1-1j, -1+1j, -2, -3])\n",
    "poly1 = eu.roots_to_polynomial(poles1)\n",
    "\n",
    "print('Poles:', poles1)\n",
    "print('Polynomial:', poly1)\n",
    "\n",
    "poles2 = np.array([-1-1j, -1+1j, -2+3j, -2-3j, -3])\n",
    "poly2 = eu.roots_to_polynomial(poles2)\n",
    "\n",
    "print('\\nPoles:', poles2)\n",
    "print('Polynomial:', poly2)"
   ]
  },
  {
   "cell_type": "markdown",
   "metadata": {
    "slideshow": {
     "slide_type": "subslide"
    }
   },
   "source": [
    "# Caution!\n",
    "\n",
    "We did not prove that if $a_0 > 0$, then the system is stable!\n",
    "\n",
    "In fact, this is not true. Consider the counter-example:"
   ]
  },
  {
   "cell_type": "code",
   "execution_count": 2,
   "metadata": {
    "slideshow": {
     "slide_type": "subslide"
    }
   },
   "outputs": [
    {
     "name": "stdout",
     "output_type": "stream",
     "text": [
      "Poles: [ 0.30901699+0.95105652j  0.30901699-0.95105652j -0.80901699+0.58778525j\n",
      " -0.80901699-0.58778525j]\n",
      "Polynomial: [1 1 1 1 1]\n"
     ]
    }
   ],
   "source": [
    "poly3 = np.array([1, 1, 1, 1, 1])\n",
    "poles3 = np.roots(poly3)\n",
    "\n",
    "print('Poles:', poles3)\n",
    "print('Polynomial:', poly3)"
   ]
  },
  {
   "cell_type": "markdown",
   "metadata": {
    "slideshow": {
     "slide_type": "subslide"
    }
   },
   "source": [
    "In order to derive conditions on $a_0$ such that the system is stable, you need to satify the Routh-Hurwitz Stability Criterion."
   ]
  },
  {
   "cell_type": "markdown",
   "metadata": {
    "slideshow": {
     "slide_type": "subslide"
    }
   },
   "source": [
    "# Main Result\n",
    "\n",
    "We want to understand why only considering $K>0$ makes sense. In the following text we will show that under mild assumptions it is reasonable to only consider $K>0$. \n",
    "\n",
    "We will make several assumptions:\n",
    "1. The open-loop system is stable,\n",
    "2. The closed-loop system is stable,\n",
    "3. The open-loop system is such that when a positive step input is applied, the steady state output is also positive. \n",
    "4. The closed-loop system is such that when a positive step input is applied, the steady state output is also positive. \n",
    "\n",
    "For many systems this is reasonable. \n",
    "\n",
    "We will use the following notation:\n",
    "- $r(t)$ is a unit step when we do these calculations.\n",
    "- $P(s) = \\frac{B(s)}{A(s)}$, where \n",
    "    - $B(s) = b_0 + b_1s + b_2s^2 + \\cdots + b_{n_b}s^{n_b}$,\n",
    "    - $A(s) = a_0 + a_1s + a_2s^2 + \\cdots + a_{n_a-1}s^{n_a-1} + s^{n_a}$,\n",
    "    - $n_a \\ge n_b$,\n",
    "    - $a_{n_a} \\ne 0$, \n",
    "    - $b_{n_b} \\ne 0$.\n",
    "\n",
    "\n",
    "The proof of the result follows \n",
    "Let's look at the steady state error of the closed-loop system when a step input is applied to the reference input. \n"
   ]
  },
  {
   "cell_type": "markdown",
   "metadata": {
    "slideshow": {
     "slide_type": "subslide"
    }
   },
   "source": [
    "# Step 1.\n",
    "\n",
    "In this step we are going to prove that given the assumptions, both $a_0$ and $b_0$ are greater than $0$. This is important because in the next step we need to determine the sign of $K$.\n",
    "\n",
    "Because the open loop system is assumed to be stable, it follows from the Proposition that $a_0>0$. \n",
    "\n",
    "Next, we will use the assumptions to show that $b_0$ also is positive. Consider the steady state value of the open-loop response to a unit step input:\n",
    "$$\n",
    "\\begin{align*}\n",
    "Y_{ol}(s) &= P(s)U(s) \\\\\n",
    "&= \\frac{B(s)}{A(s)}\\frac{1}{s} \\\\\n",
    "&= \\frac{b_0 + b_1s + b_2s^2 + \\cdots + b_{n_b}s^{n_b}}{a_0 + a_1s + a_2s^2 + \\cdots + a_{n_a-1}s^{n_a-1} + s^{n_a}}\\frac{1}{s}\n",
    "\\end{align*}\n",
    "$$\n",
    "Now find $y_{ol}(\\infty)$:\n",
    "$$\n",
    "\\begin{align*}\n",
    "y_{ol}(\\infty) &= \\lim_{s \\to 0} s Y(s) \\\\\n",
    "&= \\lim_{s \\to 0} s \\frac{b_0 + b_1s + b_2s^2 + \\cdots + b_{n_b}s^{n_b}}{a_0 + a_1s + a_2s^2 + \\cdots + a_{n_a-1}s^{n_a-1} + s^{n_a}}\\frac{1}{s} \\\\\n",
    "&= \\frac{b_0}{a_0}\n",
    "\\end{align*}\n",
    "$$\n",
    "We already know that $a_0 >0$. By the second assumption, $y_{ol}(\\infty)$ is positive, thus it follows that $b_0$ must be positive. "
   ]
  },
  {
   "cell_type": "markdown",
   "metadata": {
    "slideshow": {
     "slide_type": "subslide"
    }
   },
   "source": [
    "# Step 2.\n",
    "\n",
    "In this step we will determine ranges of $K$ that correspond to a steady state output that is positive.\n",
    "\n",
    "Let's determine the steady state value of the closed-loop system when a step input is applied.\n",
    "\n",
    "$$\n",
    "\\begin{align*}\n",
    "Y(s) &= \\frac{P(s)K}{1 + P(s)K} R(s) \\\\\n",
    "&= \\frac{P(s)K}{1 + P(s)K}\\frac{1}{s} \\\\\n",
    "&= \\frac{P(s)K}{1 + \\frac{B(s)}{A(s)}K} \\frac{1}{s} \\\\\n",
    "&= \\frac{B(s)K}{A(s)+ B(s)K}\\frac{1}{s} \n",
    "\\end{align*}\n",
    "$$\n",
    "\n",
    "Now find $y(\\infty)$:\n",
    "$$\n",
    "\\begin{align*}\n",
    "y(\\infty) &= \\lim_{s \\to 0} s Y(s) \\\\\n",
    "&= \\lim_{s \\to 0} s \\frac{B(s)K}{A(s)+ B(s)K}\\frac{1}{s}  \\\\\n",
    "& = \\lim_{s \\to 0} \\frac{B(s)K}{A(s)+ B(s)K} \\\\\n",
    "&= \\lim_{s \\to 0} \\frac{K(b_0 + b_1s + b_2s^2 + \\cdots + b_{n_b}s^{n_b})}{a_0 + a_1s + a_2s^2 + \\cdots + a_{n_a-1}s^{n_a-1} + s^{n_a} + K(b_0 + b_1s + b_2s^2 + \\cdots + b_{n_b}s^{n_b})} \\\\\n",
    "&= \\frac{Kb_0}{a_0 + Kb_0},\n",
    "\\end{align*}\n",
    "$$\n",
    "where $a_0$ and $b_0$ are both positive. \n",
    "\n",
    "By the fourth assumption, $y(\\infty)$ is positive. In order to determine the range of $K$ for which $y_{\\infty}$ is positive, it is helpful to consider the positivity/negativity of the numerator and denominator separately. \n",
    "- Case 1: $K<-\\frac{a_0}{b_0}$. The numerator is negative, and the denominator is negative, thus $y_{\\infty}$ is positive. \n",
    "- Case 2: $-\\frac{a_0}{b_0} < K < 0$. The numerator is negative, and the denominator is positive, thus $y_{\\infty}$ is negative. \n",
    "- Case 3: $K > 0$. The numerator is positive, and the denominator is positive, thus $y_{\\infty}$ is positive. \n",
    "\n",
    "Thus, the values of $K$ of Cases 1 and 3, lead to systems for which the assumptions hold. \n",
    "\n",
    "Based on the result so far, we can select values for $K$ that will lead to positive and negative final values:"
   ]
  },
  {
   "cell_type": "code",
   "execution_count": 10,
   "metadata": {
    "slideshow": {
     "slide_type": "subslide"
    }
   },
   "outputs": [
    {
     "data": {
      "text/plain": [
       "<matplotlib.legend.Legend at 0x24b7977e230>"
      ]
     },
     "execution_count": 10,
     "metadata": {},
     "output_type": "execute_result"
    },
    {
     "data": {
      "image/png": "[encoded data removed]",
      "text/plain": [
       "<Figure size 640x480 with 1 Axes>"
      ]
     },
     "metadata": {},
     "output_type": "display_data"
    }
   ],
   "source": [
    "import control as ct\n",
    "import matplotlib.pyplot as plt\n",
    "\n",
    "P = ct.tf( [1, 2], [1, 2, 3])\n",
    "\n",
    "K1 = 1\n",
    "K2 = -1/2\n",
    "\n",
    "T1 = K1*P/(1 + K1*P)\n",
    "T2 = K2*P/(1 + K2*P)\n",
    "\n",
    "t1,y_step1 = ct.step_response(T1)\n",
    "t2,y_step2 = ct.step_response(T2)\n",
    "\n",
    "fig, ax = plt.subplots(1)\n",
    "ax.plot(t1,y_step1, label='K1')\n",
    "ax.plot(t2,y_step2, label='K2')\n",
    "ax.set_title('Step Response of Closed Loop System')\n",
    "ax.set_xlabel('Time (s)')\n",
    "ax.legend()"
   ]
  },
  {
   "cell_type": "markdown",
   "metadata": {
    "slideshow": {
     "slide_type": "subslide"
    }
   },
   "source": [
    "# Step 3.\n",
    "In this step we will use the stability assumptions to determine a valid range of $K$.  \n",
    "\n",
    "In Step 2 we have show that the closed loop transfer function from $r$ to $y$ can be expressed as:\n",
    "$$\n",
    "\\begin{align*}\n",
    "T(s) = \\frac{K(b_0 + b_1s + b_2s^2 + \\cdots + b_{n_b}s^{n_b})}{a_0 + a_1s + a_2s^2 + \\cdots + a_{n_a-1}s^{n_a-1} + s^{n_a} + K(b_0 + b_1s + b_2s^2 + \\cdots + b_{n_b}s^{n_b})}\n",
    "\\end{align*}\n",
    "$$\n",
    "\n",
    "By assumption the closed loop system is stable, and so from the Proposition, it follows that $a_0 + Kb_0$ is greater than $0$. \n",
    "\n",
    "So we can write the following inequality:\n",
    "$$\n",
    "\\begin{align*}\n",
    "a_0 + Kb_0 &> 0 \\\\\n",
    "Kb_0 &> -a_0 \\\\\n",
    "K &> \\frac{-a_0}{b_0}\n",
    "\\end{align*}\n",
    "$$"
   ]
  },
  {
   "cell_type": "markdown",
   "metadata": {
    "slideshow": {
     "slide_type": "subslide"
    }
   },
   "source": [
    "# Putting it all together!\n",
    "\n",
    "Given the assumptions we have shown:\n",
    "- in Step 2 that when the step response to moves in a positive direction when a positive step is applied that:\n",
    "$$\n",
    "\\begin{align*}\n",
    "K < -\\frac{a_0}{b_0} \n",
    "\\end{align*}\n",
    "$$\n",
    "or\n",
    "$$\n",
    "\\begin{align*}\n",
    "K > 0\n",
    "\\end{align*}\n",
    "$$\n",
    "- in Step 3 that when the closed loop system is stable:\n",
    "$$ \n",
    "\\begin{align*}\n",
    "K > \\frac{-a_0}{b_0}.\n",
    "\\end{align*}\n",
    "$$\n",
    "By combining these two results, we find that given the assumptions, $K>0$. \n",
    "\n",
    "QED (which stands for *quod erat demonstrandum* meaning \"which was to be demonstrated\")."
   ]
  },
  {
   "cell_type": "code",
   "execution_count": null,
   "metadata": {},
   "outputs": [],
   "source": []
  }
 ],
 "metadata": {
  "celltoolbar": "Slideshow",
  "kernelspec": {
   "display_name": "Python 3 (ipykernel)",
   "language": "python",
   "name": "python3"
  },
  "language_info": {
   "codemirror_mode": {
    "name": "ipython",
    "version": 3
   },
   "file_extension": ".py",
   "mimetype": "text/x-python",
   "name": "python",
   "nbconvert_exporter": "python",
   "pygments_lexer": "ipython3",
   "version": "3.10.8"
  },
  "toc": {
   "base_numbering": 1,
   "nav_menu": {},
   "number_sections": true,
   "sideBar": false,
   "skip_h1_title": false,
   "title_cell": "Table of Contents",
   "title_sidebar": "Contents",
   "toc_cell": false,
   "toc_position": {},
   "toc_section_display": true,
   "toc_window_display": false
  }
 },
 "nbformat": 4,
 "nbformat_minor": 2
}
